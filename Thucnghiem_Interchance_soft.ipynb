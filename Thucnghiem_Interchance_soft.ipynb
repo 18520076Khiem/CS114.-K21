{
  "nbformat": 4,
  "nbformat_minor": 0,
  "metadata": {
    "colab": {
      "name": "Untitled58.ipynb",
      "provenance": [],
      "authorship_tag": "ABX9TyNYUX/BxucI9VH6MRsy8Sld",
      "include_colab_link": true
    },
    "kernelspec": {
      "name": "python3",
      "display_name": "Python 3"
    }
  },
  "cells": [
    {
      "cell_type": "markdown",
      "metadata": {
        "id": "view-in-github",
        "colab_type": "text"
      },
      "source": [
        "<a href=\"https://colab.research.google.com/github/18520076Khiem/Phantich_Thietke_Thuattoan/blob/master/Thucnghiem_Interchance_soft.ipynb\" target=\"_parent\"><img src=\"https://colab.research.google.com/assets/colab-badge.svg\" alt=\"Open In Colab\"/></a>"
      ]
    },
    {
      "cell_type": "code",
      "metadata": {
        "id": "ee3DTTFDYR_e"
      },
      "source": [
        "import pandas as pd\n",
        "import numpy as np\n",
        "import math\n",
        "from sklearn.linear_model import LinearRegression\n"
      ],
      "execution_count": 1,
      "outputs": []
    },
    {
      "cell_type": "code",
      "metadata": {
        "id": "da-lBuaaYTGQ",
        "outputId": "f92daa17-6d95-48ba-fd32-503dacfe1a29",
        "colab": {
          "base_uri": "https://localhost:8080/",
          "height": 549
        }
      },
      "source": [
        "import pandas as pd\n",
        "\n",
        "data = pd.read_csv('/content/thucnghiem.txt')\n",
        "print(data)\n",
        "\n",
        "import matplotlib.pyplot as plt\n",
        "\n",
        "data.columns = ['size', 'operations']\n",
        "import matplotlib.pyplot as plt\n",
        "plt.scatter(data['size'], data['operations'])\n"
      ],
      "execution_count": 12,
      "outputs": [
        {
          "output_type": "stream",
          "text": [
            "        n        t(n)\n",
            "0      76       21798\n",
            "1      83       26237\n",
            "2      91       31032\n",
            "3     100       37110\n",
            "4     110       44477\n",
            "..    ...         ...\n",
            "57  16639   853961754\n",
            "58  18302  1030782461\n",
            "59  20132  1244602220\n",
            "60  22145  1503085505\n",
            "61  24359  1815258929\n",
            "\n",
            "[62 rows x 2 columns]\n"
          ],
          "name": "stdout"
        },
        {
          "output_type": "execute_result",
          "data": {
            "text/plain": [
              "<matplotlib.collections.PathCollection at 0x7ff71d4b0828>"
            ]
          },
          "metadata": {
            "tags": []
          },
          "execution_count": 12
        },
        {
          "output_type": "display_data",
          "data": {
            "image/png": "[encoded data removed]",
            "text/plain": [
              "<Figure size 432x288 with 1 Axes>"
            ]
          },
          "metadata": {
            "tags": [],
            "needs_background": "light"
          }
        }
      ]
    },
    {
      "cell_type": "markdown",
      "metadata": {
        "id": "hdSJWp5Zabqv"
      },
      "source": [
        "##Chuẩn hóa dữ liệu\n"
      ]
    },
    {
      "cell_type": "code",
      "metadata": {
        "id": "kfADIDkNaE0P"
      },
      "source": [
        "X = data['size'].values.reshape(-1,1)"
      ],
      "execution_count": 13,
      "outputs": []
    },
    {
      "cell_type": "markdown",
      "metadata": {
        "id": "Wj7psqjiagA9"
      },
      "source": [
        "##Hàm tìm hệ số X"
      ]
    },
    {
      "cell_type": "code",
      "metadata": {
        "id": "BETbHmj7aFNb"
      },
      "source": [
        "def Find_X(_X):\n",
        "  regr = LinearRegression()\n",
        "  regr.fit(_X, data['operations'])\n",
        "  return regr.coef_"
      ],
      "execution_count": 14,
      "outputs": []
    },
    {
      "cell_type": "code",
      "metadata": {
        "id": "wOPuBjm3aHW2"
      },
      "source": [
        "result = []"
      ],
      "execution_count": 15,
      "outputs": []
    },
    {
      "cell_type": "markdown",
      "metadata": {
        "id": "NUplfF6Qanit"
      },
      "source": [
        "##Hàm lg(n)"
      ]
    },
    {
      "cell_type": "code",
      "metadata": {
        "id": "AZXWIxaAaJe0",
        "outputId": "26958d75-172c-417f-b933-ddbd0ce50121",
        "colab": {
          "base_uri": "https://localhost:8080/",
          "height": 35
        }
      },
      "source": [
        "X_ = np.log2(X)\n",
        "re = Find_X(X_)\n",
        "print(re)\n",
        "result.append(re)"
      ],
      "execution_count": 16,
      "outputs": [
        {
          "output_type": "stream",
          "text": [
            "[1.00383648e+08]\n"
          ],
          "name": "stdout"
        }
      ]
    },
    {
      "cell_type": "markdown",
      "metadata": {
        "id": "8Z-XxrYIasEH"
      },
      "source": [
        "##Hàm sqrt"
      ]
    },
    {
      "cell_type": "code",
      "metadata": {
        "id": "67xb_jLzaLZg",
        "outputId": "f34ed06e-4079-4b67-80a2-ac5820a874b1",
        "colab": {
          "base_uri": "https://localhost:8080/",
          "height": 35
        }
      },
      "source": [
        "X_ = np.sqrt(X)\n",
        "re = Find_X(X_)\n",
        "print(re)\n",
        "result.append(re)"
      ],
      "execution_count": 17,
      "outputs": [
        {
          "output_type": "stream",
          "text": [
            "[7743551.97106921]\n"
          ],
          "name": "stdout"
        }
      ]
    },
    {
      "cell_type": "markdown",
      "metadata": {
        "id": "z6x1NLQJav6H"
      },
      "source": [
        "##Hàm N"
      ]
    },
    {
      "cell_type": "code",
      "metadata": {
        "id": "Jk2SOkJzaNFd",
        "outputId": "b1b0a49f-8b4a-495e-d0d8-b123be77bdbb",
        "colab": {
          "base_uri": "https://localhost:8080/",
          "height": 35
        }
      },
      "source": [
        "re = Find_X(X)\n",
        "print(re)\n",
        "result.append(re)"
      ],
      "execution_count": 18,
      "outputs": [
        {
          "output_type": "stream",
          "text": [
            "[58869.93912484]\n"
          ],
          "name": "stdout"
        }
      ]
    },
    {
      "cell_type": "markdown",
      "metadata": {
        "id": "ObSc_3YVa0Pg"
      },
      "source": [
        "##Hàm n*log(n)"
      ]
    },
    {
      "cell_type": "code",
      "metadata": {
        "id": "c-enYzQDaO8L",
        "outputId": "3b9dbed8-b454-4d7f-f678-e8a37d2e3b93",
        "colab": {
          "base_uri": "https://localhost:8080/",
          "height": 35
        }
      },
      "source": [
        "X_ = X*np.log2(X)\n",
        "re = Find_X(X_)\n",
        "print(re)\n",
        "result.append(re)"
      ],
      "execution_count": 19,
      "outputs": [
        {
          "output_type": "stream",
          "text": [
            "[4173.66470788]\n"
          ],
          "name": "stdout"
        }
      ]
    },
    {
      "cell_type": "markdown",
      "metadata": {
        "id": "s_b8EvLFa3Id"
      },
      "source": [
        "##Hàm pow(n,2)"
      ]
    },
    {
      "cell_type": "code",
      "metadata": {
        "id": "8Le3HXJCaQiF",
        "outputId": "47a9e280-0163-4da6-dfdb-ed096ee2bd31",
        "colab": {
          "base_uri": "https://localhost:8080/",
          "height": 35
        }
      },
      "source": [
        "X_ = X**2\n",
        "re = Find_X(X_)\n",
        "print(re)\n",
        "result.append(re)"
      ],
      "execution_count": 20,
      "outputs": [
        {
          "output_type": "stream",
          "text": [
            "[3.06872245]\n"
          ],
          "name": "stdout"
        }
      ]
    },
    {
      "cell_type": "markdown",
      "metadata": {
        "id": "t8JHcvr2a5hV"
      },
      "source": [
        "##Hàm pow(n,3)"
      ]
    },
    {
      "cell_type": "code",
      "metadata": {
        "id": "COW0OTI1aSGz",
        "outputId": "1de9ba7c-6eae-4bb9-ea4a-890b2e492083",
        "colab": {
          "base_uri": "https://localhost:8080/",
          "height": 35
        }
      },
      "source": [
        "X_ = X**3\n",
        "re = Find_X(X_)\n",
        "print(re)\n",
        "result.append(re)"
      ],
      "execution_count": 21,
      "outputs": [
        {
          "output_type": "stream",
          "text": [
            "[0.00013998]\n"
          ],
          "name": "stdout"
        }
      ]
    },
    {
      "cell_type": "markdown",
      "metadata": {
        "id": "UCw0VjT1a-L5"
      },
      "source": [
        "##Hàm pow(2,n)"
      ]
    },
    {
      "cell_type": "code",
      "metadata": {
        "id": "a2QbpSUGaTwM",
        "outputId": "e6b15251-b262-4d26-81bb-708acc9d86f9",
        "colab": {
          "base_uri": "https://localhost:8080/",
          "height": 35
        }
      },
      "source": [
        "X_ = 2**X\n",
        "re = Find_X(X_)\n",
        "print(re)\n",
        "result.append(re)"
      ],
      "execution_count": 22,
      "outputs": [
        {
          "output_type": "stream",
          "text": [
            "[0.]\n"
          ],
          "name": "stdout"
        }
      ]
    },
    {
      "cell_type": "code",
      "metadata": {
        "id": "p0J6SKHaaVdp",
        "outputId": "ceea3220-0804-4e8a-fad6-10ee2aa23c2f",
        "colab": {
          "base_uri": "https://localhost:8080/",
          "height": 35
        }
      },
      "source": [
        "print(result)"
      ],
      "execution_count": 23,
      "outputs": [
        {
          "output_type": "stream",
          "text": [
            "[array([1.00383648e+08]), array([7743551.97106921]), array([58869.93912484]), array([4173.66470788]), array([3.06872245]), array([0.00013998]), array([0.])]\n"
          ],
          "name": "stdout"
        }
      ]
    },
    {
      "cell_type": "code",
      "metadata": {
        "id": "o_HR29d2aXNj"
      },
      "source": [
        ""
      ],
      "execution_count": null,
      "outputs": []
    }
  ]
}